{
 "cells": [
  {
   "cell_type": "code",
   "execution_count": 1,
   "id": "0d2333db",
   "metadata": {},
   "outputs": [],
   "source": [
    "import spacy\n",
    "import pandas as pd\n",
    "from sklearn.feature_extraction.text import TfidfVectorizer\n",
    "from sklearn.linear_model import LogisticRegression\n",
    "from sklearn.model_selection import train_test_split\n",
    "from sklearn.metrics import accuracy_score"
   ]
  },
  {
   "cell_type": "code",
   "execution_count": 5,
   "id": "7c0bee47",
   "metadata": {},
   "outputs": [],
   "source": [
    "nlp = spacy.load(\"en_core_web_sm\")"
   ]
  },
  {
   "cell_type": "code",
   "execution_count": 66,
   "id": "eedb8a3a",
   "metadata": {},
   "outputs": [],
   "source": [
    "data = [\n",
    "    (\"Experienced software developer skilled in Python, Java, and machine learning.\", \"Software Developer\"),\n",
    "    (\"Certified public accountant with experience in auditing and tax planning.\", \"Accountant\"),\n",
    "    (\"Marketing manager with expertise in SEO, content creation, and campaign strategy.\", \"Marketing\"),\n",
    "    (\"Data scientist proficient in R, Python, and data visualization.\", \"Data Scientist\"),\n",
    "    (\"Human resources specialist focusing on recruitment and employee relations.\", \"HR\"),\n",
    "    (\"Software engineer with experience in web development, Python, and cloud computing.\", \"Software Developer\"),\n",
    "    (\"Accountant with skills in financial reporting, auditing, and taxation.\", \"Accountant\"),\n",
    "    (\"Digital marketing specialist skilled in SEO, PPC, and social media strategy.\", \"Marketing\"),\n",
    "    (\"Machine learning engineer experienced with Python, TensorFlow, and data analytics.\", \"Data Scientist\"),\n",
    "    (\"HR manager handling recruitment, onboarding, and organizational development.\", \"HR\"),\n",
    "]\n"
   ]
  },
  {
   "cell_type": "code",
   "execution_count": 67,
   "id": "592666f8",
   "metadata": {},
   "outputs": [],
   "source": [
    "df = pd.DataFrame(data, columns=[\"resume\", \"category\"])\n"
   ]
  },
  {
   "cell_type": "code",
   "execution_count": 68,
   "id": "784afae4",
   "metadata": {},
   "outputs": [],
   "source": [
    "def preprocess_text(text):\n",
    "    doc = nlp(text)\n",
    "    tokens = [token.lemma_.lower() for token in doc if not token.is_stop and token.is_alpha]\n",
    "    return ' '.join(tokens)"
   ]
  },
  {
   "cell_type": "code",
   "execution_count": 69,
   "id": "6b3c8c62",
   "metadata": {},
   "outputs": [],
   "source": [
    "df['cleaned_text'] = df['resume'].apply(preprocess_text)"
   ]
  },
  {
   "cell_type": "code",
   "execution_count": 70,
   "id": "844fc5ca",
   "metadata": {},
   "outputs": [],
   "source": [
    "vectorizer = TfidfVectorizer()\n",
    "X = vectorizer.fit_transform(df['cleaned_text'])\n",
    "y = df['category']"
   ]
  },
  {
   "cell_type": "code",
   "execution_count": 76,
   "id": "48e891b1",
   "metadata": {},
   "outputs": [],
   "source": [
    "X_train, X_test, y_train, y_test = train_test_split(X, y, test_size=0.5, random_state=42,stratify=y)"
   ]
  },
  {
   "cell_type": "code",
   "execution_count": 77,
   "id": "e407b061",
   "metadata": {},
   "outputs": [],
   "source": [
    "clf = LogisticRegression(max_iter=1000)\n",
    "clf.fit(X_train, y_train)\n",
    "y_pred = clf.predict(X_test)"
   ]
  },
  {
   "cell_type": "code",
   "execution_count": 78,
   "id": "b5cfa961",
   "metadata": {},
   "outputs": [
    {
     "name": "stdout",
     "output_type": "stream",
     "text": [
      "Accuracy: 0.6\n"
     ]
    }
   ],
   "source": [
    "accuracy = accuracy_score(y_test, y_pred)\n",
    "print(\"Accuracy:\", accuracy)"
   ]
  }
 ],
 "metadata": {
  "kernelspec": {
   "display_name": "Python 3",
   "language": "python",
   "name": "python3"
  },
  "language_info": {
   "codemirror_mode": {
    "name": "ipython",
    "version": 3
   },
   "file_extension": ".py",
   "mimetype": "text/x-python",
   "name": "python",
   "nbconvert_exporter": "python",
   "pygments_lexer": "ipython3",
   "version": "3.11.2"
  }
 },
 "nbformat": 4,
 "nbformat_minor": 5
}
